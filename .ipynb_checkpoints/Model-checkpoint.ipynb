{
 "cells": [
  {
   "cell_type": "markdown",
   "metadata": {
    "id": "KC9HZTS-riAD"
   },
   "source": [
    "## Loading Dataset"
   ]
  },
  {
   "cell_type": "code",
   "execution_count": 1,
   "metadata": {
    "executionInfo": {
     "elapsed": 2498,
     "status": "ok",
     "timestamp": 1606514399940,
     "user": {
      "displayName": "Prateek Vachher",
      "photoUrl": "https://lh3.googleusercontent.com/a-/AOh14Gg7GJwDywSgfG45fhpZaOnQVMlfpl45WmwJyvT1Ow=s64",
      "userId": "02995801987827348544"
     },
     "user_tz": 360
    },
    "id": "zMmctJgOriAD"
   },
   "outputs": [
    {
     "name": "stderr",
     "output_type": "stream",
     "text": [
      "Using TensorFlow backend.\n"
     ]
    }
   ],
   "source": [
    "import pickle\n",
    "import pandas as pd\n",
    "import numpy as np\n",
    "\n",
    "from matplotlib import pyplot as plt\n",
    "\n",
    "from keras import applications\n",
    "from keras.models import Sequential\n",
    "from keras.layers import Dense, Dropout, Flatten, Conv2D, MaxPooling2D\n",
    "from keras.layers.normalization import BatchNormalization\n",
    "from keras.utils import to_categorical\n",
    "from keras.wrappers.scikit_learn import KerasRegressor\n",
    "\n",
    "from sklearn.tree import DecisionTreeRegressor\n",
    "from sklearn import linear_model, metrics, svm, neighbors, gaussian_process, ensemble, neural_network\n",
    "from sklearn.model_selection import train_test_split\n",
    "from sklearn.preprocessing import StandardScaler\n",
    "from sklearn.metrics import mean_squared_error, r2_score, mean_absolute_error"
   ]
  },
  {
   "cell_type": "code",
   "execution_count": 2,
   "metadata": {
    "colab": {
     "base_uri": "https://localhost:8080/",
     "height": 204
    },
    "executionInfo": {
     "elapsed": 225,
     "status": "ok",
     "timestamp": 1606514932370,
     "user": {
      "displayName": "Prateek Vachher",
      "photoUrl": "https://lh3.googleusercontent.com/a-/AOh14Gg7GJwDywSgfG45fhpZaOnQVMlfpl45WmwJyvT1Ow=s64",
      "userId": "02995801987827348544"
     },
     "user_tz": 360
    },
    "id": "rEeHUQ4friAD",
    "outputId": "9fbf4684-81c9-434c-a696-8e48b42c8985"
   },
   "outputs": [
    {
     "data": {
      "text/html": [
       "<div>\n",
       "<style scoped>\n",
       "    .dataframe tbody tr th:only-of-type {\n",
       "        vertical-align: middle;\n",
       "    }\n",
       "\n",
       "    .dataframe tbody tr th {\n",
       "        vertical-align: top;\n",
       "    }\n",
       "\n",
       "    .dataframe thead th {\n",
       "        text-align: right;\n",
       "    }\n",
       "</style>\n",
       "<table border=\"1\" class=\"dataframe\">\n",
       "  <thead>\n",
       "    <tr style=\"text-align: right;\">\n",
       "      <th></th>\n",
       "      <th>totPurchaseAmt</th>\n",
       "      <th>latitude</th>\n",
       "      <th>longitude</th>\n",
       "      <th>bathrooms</th>\n",
       "      <th>photoCount</th>\n",
       "      <th>bedrooms</th>\n",
       "      <th>livingArea</th>\n",
       "      <th>yearBuilt</th>\n",
       "      <th>averageSchoolRating</th>\n",
       "      <th>zip</th>\n",
       "      <th>zestimate</th>\n",
       "      <th>sentiment</th>\n",
       "    </tr>\n",
       "  </thead>\n",
       "  <tbody>\n",
       "    <tr>\n",
       "      <th>1</th>\n",
       "      <td>198000.0</td>\n",
       "      <td>45.237189</td>\n",
       "      <td>-93.409535</td>\n",
       "      <td>2.0</td>\n",
       "      <td>0</td>\n",
       "      <td>4.0</td>\n",
       "      <td>1716.0</td>\n",
       "      <td>1996</td>\n",
       "      <td>5.333333</td>\n",
       "      <td>55303</td>\n",
       "      <td>285985.0</td>\n",
       "      <td>0.4939</td>\n",
       "    </tr>\n",
       "    <tr>\n",
       "      <th>3</th>\n",
       "      <td>415000.0</td>\n",
       "      <td>45.278217</td>\n",
       "      <td>-93.407533</td>\n",
       "      <td>2.0</td>\n",
       "      <td>30</td>\n",
       "      <td>3.0</td>\n",
       "      <td>3108.0</td>\n",
       "      <td>1985</td>\n",
       "      <td>6.333333</td>\n",
       "      <td>55303</td>\n",
       "      <td>431995.0</td>\n",
       "      <td>0.2617</td>\n",
       "    </tr>\n",
       "    <tr>\n",
       "      <th>4</th>\n",
       "      <td>329900.0</td>\n",
       "      <td>45.143781</td>\n",
       "      <td>-93.021604</td>\n",
       "      <td>3.0</td>\n",
       "      <td>0</td>\n",
       "      <td>4.0</td>\n",
       "      <td>1814.0</td>\n",
       "      <td>2001</td>\n",
       "      <td>6.500000</td>\n",
       "      <td>55038</td>\n",
       "      <td>318162.0</td>\n",
       "      <td>0.2732</td>\n",
       "    </tr>\n",
       "    <tr>\n",
       "      <th>5</th>\n",
       "      <td>262000.0</td>\n",
       "      <td>45.164166</td>\n",
       "      <td>-93.297836</td>\n",
       "      <td>2.0</td>\n",
       "      <td>36</td>\n",
       "      <td>3.0</td>\n",
       "      <td>2158.0</td>\n",
       "      <td>1985</td>\n",
       "      <td>4.666667</td>\n",
       "      <td>55043</td>\n",
       "      <td>272169.0</td>\n",
       "      <td>0.9136</td>\n",
       "    </tr>\n",
       "    <tr>\n",
       "      <th>6</th>\n",
       "      <td>280000.0</td>\n",
       "      <td>45.283700</td>\n",
       "      <td>-93.332023</td>\n",
       "      <td>2.0</td>\n",
       "      <td>22</td>\n",
       "      <td>3.0</td>\n",
       "      <td>1993.0</td>\n",
       "      <td>1976</td>\n",
       "      <td>7.333333</td>\n",
       "      <td>55304</td>\n",
       "      <td>290365.0</td>\n",
       "      <td>0.9428</td>\n",
       "    </tr>\n",
       "  </tbody>\n",
       "</table>\n",
       "</div>"
      ],
      "text/plain": [
       "   totPurchaseAmt   latitude  longitude  bathrooms  photoCount  bedrooms  \\\n",
       "1        198000.0  45.237189 -93.409535        2.0           0       4.0   \n",
       "3        415000.0  45.278217 -93.407533        2.0          30       3.0   \n",
       "4        329900.0  45.143781 -93.021604        3.0           0       4.0   \n",
       "5        262000.0  45.164166 -93.297836        2.0          36       3.0   \n",
       "6        280000.0  45.283700 -93.332023        2.0          22       3.0   \n",
       "\n",
       "   livingArea  yearBuilt  averageSchoolRating    zip  zestimate  sentiment  \n",
       "1      1716.0       1996             5.333333  55303   285985.0     0.4939  \n",
       "3      3108.0       1985             6.333333  55303   431995.0     0.2617  \n",
       "4      1814.0       2001             6.500000  55038   318162.0     0.2732  \n",
       "5      2158.0       1985             4.666667  55043   272169.0     0.9136  \n",
       "6      1993.0       1976             7.333333  55304   290365.0     0.9428  "
      ]
     },
     "execution_count": 2,
     "metadata": {},
     "output_type": "execute_result"
    }
   ],
   "source": [
    "df = pickle.load(open(\"datafiles/after-EDA.ft\", \"rb\"))\n",
    "df.head()"
   ]
  },
  {
   "cell_type": "code",
   "execution_count": 3,
   "metadata": {
    "colab": {
     "base_uri": "https://localhost:8080/"
    },
    "executionInfo": {
     "elapsed": 192,
     "status": "ok",
     "timestamp": 1606514935614,
     "user": {
      "displayName": "Prateek Vachher",
      "photoUrl": "https://lh3.googleusercontent.com/a-/AOh14Gg7GJwDywSgfG45fhpZaOnQVMlfpl45WmwJyvT1Ow=s64",
      "userId": "02995801987827348544"
     },
     "user_tz": 360
    },
    "id": "bjDpXRN4riAE",
    "outputId": "0703085b-903a-4567-bf0f-32d22986ffe2"
   },
   "outputs": [
    {
     "data": {
      "text/plain": [
       "28078"
      ]
     },
     "execution_count": 3,
     "metadata": {},
     "output_type": "execute_result"
    }
   ],
   "source": [
    "len(df)"
   ]
  },
  {
   "cell_type": "code",
   "execution_count": 4,
   "metadata": {
    "executionInfo": {
     "elapsed": 346,
     "status": "ok",
     "timestamp": 1606514933313,
     "user": {
      "displayName": "Prateek Vachher",
      "photoUrl": "https://lh3.googleusercontent.com/a-/AOh14Gg7GJwDywSgfG45fhpZaOnQVMlfpl45WmwJyvT1Ow=s64",
      "userId": "02995801987827348544"
     },
     "user_tz": 360
    },
    "id": "to7cc2lmriAE"
   },
   "outputs": [],
   "source": [
    "grouped = df.groupby('zip')\n",
    "df = grouped.filter(lambda x: x['zip'].count() > 100)  # Use ZipCode where there are atleast 100 listings"
   ]
  },
  {
   "cell_type": "markdown",
   "metadata": {
    "id": "N7W8N4rlriAE"
   },
   "source": [
    "## Converting Categorical Variables "
   ]
  },
  {
   "cell_type": "code",
   "execution_count": 5,
   "metadata": {
    "colab": {
     "base_uri": "https://localhost:8080/",
     "height": 253
    },
    "executionInfo": {
     "elapsed": 352,
     "status": "ok",
     "timestamp": 1606514493467,
     "user": {
      "displayName": "Prateek Vachher",
      "photoUrl": "https://lh3.googleusercontent.com/a-/AOh14Gg7GJwDywSgfG45fhpZaOnQVMlfpl45WmwJyvT1Ow=s64",
      "userId": "02995801987827348544"
     },
     "user_tz": 360
    },
    "id": "6pdsXA5priAE",
    "outputId": "d7b5cd1e-e4da-4d16-8176-01d6d10880fb"
   },
   "outputs": [
    {
     "data": {
      "text/html": [
       "<div>\n",
       "<style scoped>\n",
       "    .dataframe tbody tr th:only-of-type {\n",
       "        vertical-align: middle;\n",
       "    }\n",
       "\n",
       "    .dataframe tbody tr th {\n",
       "        vertical-align: top;\n",
       "    }\n",
       "\n",
       "    .dataframe thead th {\n",
       "        text-align: right;\n",
       "    }\n",
       "</style>\n",
       "<table border=\"1\" class=\"dataframe\">\n",
       "  <thead>\n",
       "    <tr style=\"text-align: right;\">\n",
       "      <th></th>\n",
       "      <th>totPurchaseAmt</th>\n",
       "      <th>latitude</th>\n",
       "      <th>longitude</th>\n",
       "      <th>bathrooms</th>\n",
       "      <th>photoCount</th>\n",
       "      <th>bedrooms</th>\n",
       "      <th>livingArea</th>\n",
       "      <th>yearBuilt</th>\n",
       "      <th>averageSchoolRating</th>\n",
       "      <th>zestimate</th>\n",
       "      <th>...</th>\n",
       "      <th>zip_55431</th>\n",
       "      <th>zip_55432</th>\n",
       "      <th>zip_55433</th>\n",
       "      <th>zip_55434</th>\n",
       "      <th>zip_55437</th>\n",
       "      <th>zip_55443</th>\n",
       "      <th>zip_55446</th>\n",
       "      <th>zip_55447</th>\n",
       "      <th>zip_55448</th>\n",
       "      <th>zip_55449</th>\n",
       "    </tr>\n",
       "  </thead>\n",
       "  <tbody>\n",
       "    <tr>\n",
       "      <th>1</th>\n",
       "      <td>198000.0</td>\n",
       "      <td>45.237189</td>\n",
       "      <td>-93.409535</td>\n",
       "      <td>2.0</td>\n",
       "      <td>0</td>\n",
       "      <td>4.0</td>\n",
       "      <td>1716.0</td>\n",
       "      <td>1996</td>\n",
       "      <td>5.333333</td>\n",
       "      <td>285985.0</td>\n",
       "      <td>...</td>\n",
       "      <td>0</td>\n",
       "      <td>0</td>\n",
       "      <td>0</td>\n",
       "      <td>0</td>\n",
       "      <td>0</td>\n",
       "      <td>0</td>\n",
       "      <td>0</td>\n",
       "      <td>0</td>\n",
       "      <td>0</td>\n",
       "      <td>0</td>\n",
       "    </tr>\n",
       "    <tr>\n",
       "      <th>3</th>\n",
       "      <td>415000.0</td>\n",
       "      <td>45.278217</td>\n",
       "      <td>-93.407533</td>\n",
       "      <td>2.0</td>\n",
       "      <td>30</td>\n",
       "      <td>3.0</td>\n",
       "      <td>3108.0</td>\n",
       "      <td>1985</td>\n",
       "      <td>6.333333</td>\n",
       "      <td>431995.0</td>\n",
       "      <td>...</td>\n",
       "      <td>0</td>\n",
       "      <td>0</td>\n",
       "      <td>0</td>\n",
       "      <td>0</td>\n",
       "      <td>0</td>\n",
       "      <td>0</td>\n",
       "      <td>0</td>\n",
       "      <td>0</td>\n",
       "      <td>0</td>\n",
       "      <td>0</td>\n",
       "    </tr>\n",
       "    <tr>\n",
       "      <th>4</th>\n",
       "      <td>329900.0</td>\n",
       "      <td>45.143781</td>\n",
       "      <td>-93.021604</td>\n",
       "      <td>3.0</td>\n",
       "      <td>0</td>\n",
       "      <td>4.0</td>\n",
       "      <td>1814.0</td>\n",
       "      <td>2001</td>\n",
       "      <td>6.500000</td>\n",
       "      <td>318162.0</td>\n",
       "      <td>...</td>\n",
       "      <td>0</td>\n",
       "      <td>0</td>\n",
       "      <td>0</td>\n",
       "      <td>0</td>\n",
       "      <td>0</td>\n",
       "      <td>0</td>\n",
       "      <td>0</td>\n",
       "      <td>0</td>\n",
       "      <td>0</td>\n",
       "      <td>0</td>\n",
       "    </tr>\n",
       "    <tr>\n",
       "      <th>6</th>\n",
       "      <td>280000.0</td>\n",
       "      <td>45.283700</td>\n",
       "      <td>-93.332023</td>\n",
       "      <td>2.0</td>\n",
       "      <td>22</td>\n",
       "      <td>3.0</td>\n",
       "      <td>1993.0</td>\n",
       "      <td>1976</td>\n",
       "      <td>7.333333</td>\n",
       "      <td>290365.0</td>\n",
       "      <td>...</td>\n",
       "      <td>0</td>\n",
       "      <td>0</td>\n",
       "      <td>0</td>\n",
       "      <td>0</td>\n",
       "      <td>0</td>\n",
       "      <td>0</td>\n",
       "      <td>0</td>\n",
       "      <td>0</td>\n",
       "      <td>0</td>\n",
       "      <td>0</td>\n",
       "    </tr>\n",
       "    <tr>\n",
       "      <th>7</th>\n",
       "      <td>237000.0</td>\n",
       "      <td>45.105931</td>\n",
       "      <td>-93.261656</td>\n",
       "      <td>2.0</td>\n",
       "      <td>53</td>\n",
       "      <td>3.0</td>\n",
       "      <td>2058.0</td>\n",
       "      <td>1959</td>\n",
       "      <td>3.666667</td>\n",
       "      <td>246844.0</td>\n",
       "      <td>...</td>\n",
       "      <td>0</td>\n",
       "      <td>1</td>\n",
       "      <td>0</td>\n",
       "      <td>0</td>\n",
       "      <td>0</td>\n",
       "      <td>0</td>\n",
       "      <td>0</td>\n",
       "      <td>0</td>\n",
       "      <td>0</td>\n",
       "      <td>0</td>\n",
       "    </tr>\n",
       "  </tbody>\n",
       "</table>\n",
       "<p>5 rows × 100 columns</p>\n",
       "</div>"
      ],
      "text/plain": [
       "   totPurchaseAmt   latitude  longitude  bathrooms  photoCount  bedrooms  \\\n",
       "1        198000.0  45.237189 -93.409535        2.0           0       4.0   \n",
       "3        415000.0  45.278217 -93.407533        2.0          30       3.0   \n",
       "4        329900.0  45.143781 -93.021604        3.0           0       4.0   \n",
       "6        280000.0  45.283700 -93.332023        2.0          22       3.0   \n",
       "7        237000.0  45.105931 -93.261656        2.0          53       3.0   \n",
       "\n",
       "   livingArea  yearBuilt  averageSchoolRating  zestimate  ...  zip_55431  \\\n",
       "1      1716.0       1996             5.333333   285985.0  ...          0   \n",
       "3      3108.0       1985             6.333333   431995.0  ...          0   \n",
       "4      1814.0       2001             6.500000   318162.0  ...          0   \n",
       "6      1993.0       1976             7.333333   290365.0  ...          0   \n",
       "7      2058.0       1959             3.666667   246844.0  ...          0   \n",
       "\n",
       "   zip_55432  zip_55433  zip_55434  zip_55437  zip_55443  zip_55446  \\\n",
       "1          0          0          0          0          0          0   \n",
       "3          0          0          0          0          0          0   \n",
       "4          0          0          0          0          0          0   \n",
       "6          0          0          0          0          0          0   \n",
       "7          1          0          0          0          0          0   \n",
       "\n",
       "   zip_55447  zip_55448  zip_55449  \n",
       "1          0          0          0  \n",
       "3          0          0          0  \n",
       "4          0          0          0  \n",
       "6          0          0          0  \n",
       "7          0          0          0  \n",
       "\n",
       "[5 rows x 100 columns]"
      ]
     },
     "execution_count": 5,
     "metadata": {},
     "output_type": "execute_result"
    }
   ],
   "source": [
    "df = pd.get_dummies(data=df, columns=[\"zip\"])\n",
    "df.head()"
   ]
  },
  {
   "cell_type": "markdown",
   "metadata": {
    "id": "8RGJAD5ZriAE"
   },
   "source": [
    "## Train Test Split "
   ]
  },
  {
   "cell_type": "code",
   "execution_count": 6,
   "metadata": {
    "executionInfo": {
     "elapsed": 202,
     "status": "ok",
     "timestamp": 1606514581802,
     "user": {
      "displayName": "Prateek Vachher",
      "photoUrl": "https://lh3.googleusercontent.com/a-/AOh14Gg7GJwDywSgfG45fhpZaOnQVMlfpl45WmwJyvT1Ow=s64",
      "userId": "02995801987827348544"
     },
     "user_tz": 360
    },
    "id": "DNY96ULoriAE"
   },
   "outputs": [],
   "source": [
    "X = df.drop(columns=[\"totPurchaseAmt\", \"latitude\", \"longitude\", \"zestimate\"])  # Dropping target variable, latitude and longitude\n",
    "y = df[\"totPurchaseAmt\"]\n",
    "\n",
    "X_train, X_test, y_train, y_test = train_test_split(X, y, test_size=0.3)  # Train Test split of 70:30"
   ]
  },
  {
   "cell_type": "code",
   "execution_count": 7,
   "metadata": {
    "executionInfo": {
     "elapsed": 221,
     "status": "ok",
     "timestamp": 1606514623699,
     "user": {
      "displayName": "Prateek Vachher",
      "photoUrl": "https://lh3.googleusercontent.com/a-/AOh14Gg7GJwDywSgfG45fhpZaOnQVMlfpl45WmwJyvT1Ow=s64",
      "userId": "02995801987827348544"
     },
     "user_tz": 360
    },
    "id": "If_DVcTnriAF"
   },
   "outputs": [],
   "source": [
    "scaler = StandardScaler()\n",
    "scaler.fit(X_train)  # Fit only on training data\n",
    "X_train = scaler.transform(X_train)\n",
    "X_test = scaler.transform(X_test)  # apply same transformation to test data"
   ]
  },
  {
   "cell_type": "markdown",
   "metadata": {
    "id": "CcgwKs59riAF"
   },
   "source": [
    "## Models"
   ]
  },
  {
   "cell_type": "code",
   "execution_count": 8,
   "metadata": {
    "id": "dEE10C7-riAF"
   },
   "outputs": [],
   "source": [
    "# Trying to Build Neural Network Model\n",
    "\n",
    "def create_model(optimizer = 'adam'):\n",
    "  cnn_model = Sequential()\n",
    "\n",
    "  n_cols = X_train.shape[1]\n",
    "  cnn_model.add(Dense(16, activation='relu', input_shape=(n_cols,)))\n",
    "  cnn_model.add(Dense(32, activation='relu'))\n",
    "  cnn_model.add(Dense(64, activation='relu'))\n",
    "  cnn_model.add(Dense(128, activation='relu'))\n",
    "  cnn_model.add(Dense(256, activation='relu'))\n",
    "  cnn_model.add(Dense(256, activation='relu'))\n",
    "  cnn_model.add(Dense(128, activation='relu'))\n",
    "  cnn_model.add(Dense(64, activation='relu'))\n",
    "  cnn_model.add(Dense(32, activation='relu'))\n",
    "  cnn_model.add(Dense(16, activation='relu'))\n",
    "  cnn_model.add(Dense(1))\n",
    "\n",
    "  cnn_model.compile(optimizer=optimizer, loss='mean_absolute_error', metrics=[\"mae\"])\n",
    "\n",
    "  return cnn_model"
   ]
  },
  {
   "cell_type": "code",
   "execution_count": 9,
   "metadata": {
    "colab": {
     "base_uri": "https://localhost:8080/"
    },
    "executionInfo": {
     "elapsed": 406574,
     "status": "ok",
     "timestamp": 1606507393154,
     "user": {
      "displayName": "Prateek Vachher",
      "photoUrl": "https://lh3.googleusercontent.com/a-/AOh14Gg7GJwDywSgfG45fhpZaOnQVMlfpl45WmwJyvT1Ow=s64",
      "userId": "02995801987827348544"
     },
     "user_tz": 360
    },
    "id": "mZ1NL4ATriAF",
    "outputId": "900becd6-c4d8-4eef-8e6f-07961740c089"
   },
   "outputs": [
    {
     "name": "stdout",
     "output_type": "stream",
     "text": [
      "=== Neural Network ===\n",
      "=== Linear Regression ===\n",
      "=== Support Vector Machine ===\n",
      "=== Decision Tree ===\n",
      "=== Ridge Regression ===\n",
      "=== Least Angle Regression ===\n",
      "=== Bayesian Ridge Regression ===\n",
      "=== SGD Regressor ===\n",
      "=== Nearest Neighbors Regression ===\n",
      "=== Gaussian Process ===\n",
      "=== Random Forest ===\n",
      "=== Gradient Boosting Regressor ===\n"
     ]
    }
   ],
   "source": [
    "models = {\n",
    "    \"Neural Network\" : create_model(),\n",
    "    \"Linear Regression\" : linear_model.LinearRegression(n_jobs=-1), \n",
    "    \"Support Vector Machine\" : svm.SVR(),\n",
    "    \"Decision Tree\" : DecisionTreeRegressor(),\n",
    "    \"Ridge Regression\" : linear_model.Ridge(alpha=.5),\n",
    "    \"Least Angle Regression\" : linear_model.LassoLars(alpha=.1),\n",
    "    \"Bayesian Ridge Regression\" : linear_model.BayesianRidge(),\n",
    "    \"SGD Regressor\" : linear_model.SGDRegressor(),\n",
    "    \"Nearest Neighbors Regression\" : neighbors.KNeighborsRegressor(n_jobs=-1),\n",
    "    \"Gaussian Process\" : gaussian_process.GaussianProcessRegressor(),\n",
    "    \"Random Forest\" : ensemble.RandomForestRegressor(n_jobs=-1),\n",
    "    'Gradient Boosting Regressor' : ensemble.GradientBoostingRegressor()\n",
    "}\n",
    "\n",
    "results = []\n",
    "\n",
    "for model_name in models:\n",
    "    model = models[model_name]\n",
    "\n",
    "    if model_name == \"Neural Network\":\n",
    "        model.fit(X_train, y_train, validation_split=0.1, epochs=100, verbose=0)\n",
    "    else:\n",
    "        model.fit(X_train, y_train)\n",
    "    \n",
    "    y_pred = model.predict(X_test)\n",
    "    \n",
    "    print (\"=== \" + model_name + \" ===\")\n",
    "    results.append([model_name, round(metrics.mean_absolute_error(y_test, y_pred), 3),\n",
    "                    round(metrics.mean_squared_error(y_test, y_pred), 3), \n",
    "                    round(np.sqrt(metrics.mean_squared_error(y_test, y_pred)), 3)])"
   ]
  },
  {
   "cell_type": "code",
   "execution_count": 10,
   "metadata": {},
   "outputs": [
    {
     "data": {
      "text/html": [
       "<div>\n",
       "<style scoped>\n",
       "    .dataframe tbody tr th:only-of-type {\n",
       "        vertical-align: middle;\n",
       "    }\n",
       "\n",
       "    .dataframe tbody tr th {\n",
       "        vertical-align: top;\n",
       "    }\n",
       "\n",
       "    .dataframe thead th {\n",
       "        text-align: right;\n",
       "    }\n",
       "</style>\n",
       "<table border=\"1\" class=\"dataframe\">\n",
       "  <thead>\n",
       "    <tr style=\"text-align: right;\">\n",
       "      <th></th>\n",
       "      <th>Model Name</th>\n",
       "      <th>MAE</th>\n",
       "      <th>MSE</th>\n",
       "      <th>RMSE</th>\n",
       "    </tr>\n",
       "  </thead>\n",
       "  <tbody>\n",
       "    <tr>\n",
       "      <th>0</th>\n",
       "      <td>Neural Network</td>\n",
       "      <td>55301.31</td>\n",
       "      <td>11222014757.36</td>\n",
       "      <td>105934.01</td>\n",
       "    </tr>\n",
       "    <tr>\n",
       "      <th>10</th>\n",
       "      <td>Random Forest</td>\n",
       "      <td>56980.61</td>\n",
       "      <td>11210208167.23</td>\n",
       "      <td>105878.27</td>\n",
       "    </tr>\n",
       "    <tr>\n",
       "      <th>11</th>\n",
       "      <td>Gradient Boosting Regressor</td>\n",
       "      <td>58160.05</td>\n",
       "      <td>11584432519.93</td>\n",
       "      <td>107631.00</td>\n",
       "    </tr>\n",
       "    <tr>\n",
       "      <th>6</th>\n",
       "      <td>Bayesian Ridge Regression</td>\n",
       "      <td>62351.11</td>\n",
       "      <td>11919372050.76</td>\n",
       "      <td>109175.88</td>\n",
       "    </tr>\n",
       "    <tr>\n",
       "      <th>5</th>\n",
       "      <td>Least Angle Regression</td>\n",
       "      <td>62471.32</td>\n",
       "      <td>11925014473.51</td>\n",
       "      <td>109201.71</td>\n",
       "    </tr>\n",
       "    <tr>\n",
       "      <th>4</th>\n",
       "      <td>Ridge Regression</td>\n",
       "      <td>62483.00</td>\n",
       "      <td>11925502387.65</td>\n",
       "      <td>109203.95</td>\n",
       "    </tr>\n",
       "    <tr>\n",
       "      <th>1</th>\n",
       "      <td>Linear Regression</td>\n",
       "      <td>62982.16</td>\n",
       "      <td>11966156905.65</td>\n",
       "      <td>109389.93</td>\n",
       "    </tr>\n",
       "    <tr>\n",
       "      <th>8</th>\n",
       "      <td>Nearest Neighbors Regression</td>\n",
       "      <td>63167.14</td>\n",
       "      <td>12689241036.52</td>\n",
       "      <td>112646.53</td>\n",
       "    </tr>\n",
       "    <tr>\n",
       "      <th>7</th>\n",
       "      <td>SGD Regressor</td>\n",
       "      <td>66819.95</td>\n",
       "      <td>12753993922.07</td>\n",
       "      <td>112933.58</td>\n",
       "    </tr>\n",
       "    <tr>\n",
       "      <th>3</th>\n",
       "      <td>Decision Tree</td>\n",
       "      <td>78109.52</td>\n",
       "      <td>21371952657.05</td>\n",
       "      <td>146191.49</td>\n",
       "    </tr>\n",
       "    <tr>\n",
       "      <th>2</th>\n",
       "      <td>Support Vector Machine</td>\n",
       "      <td>106913.98</td>\n",
       "      <td>32468363329.79</td>\n",
       "      <td>180189.80</td>\n",
       "    </tr>\n",
       "    <tr>\n",
       "      <th>9</th>\n",
       "      <td>Gaussian Process</td>\n",
       "      <td>659681.42</td>\n",
       "      <td>19880587455466.16</td>\n",
       "      <td>4458765.24</td>\n",
       "    </tr>\n",
       "  </tbody>\n",
       "</table>\n",
       "</div>"
      ],
      "text/plain": [
       "                      Model Name       MAE               MSE       RMSE\n",
       "0                 Neural Network  55301.31    11222014757.36  105934.01\n",
       "10                 Random Forest  56980.61    11210208167.23  105878.27\n",
       "11   Gradient Boosting Regressor  58160.05    11584432519.93  107631.00\n",
       "6      Bayesian Ridge Regression  62351.11    11919372050.76  109175.88\n",
       "5         Least Angle Regression  62471.32    11925014473.51  109201.71\n",
       "4               Ridge Regression  62483.00    11925502387.65  109203.95\n",
       "1              Linear Regression  62982.16    11966156905.65  109389.93\n",
       "8   Nearest Neighbors Regression  63167.14    12689241036.52  112646.53\n",
       "7                  SGD Regressor  66819.95    12753993922.07  112933.58\n",
       "3                  Decision Tree  78109.52    21371952657.05  146191.49\n",
       "2         Support Vector Machine 106913.98    32468363329.79  180189.80\n",
       "9               Gaussian Process 659681.42 19880587455466.16 4458765.24"
      ]
     },
     "execution_count": 10,
     "metadata": {},
     "output_type": "execute_result"
    }
   ],
   "source": [
    "pd.set_option('display.float_format', '{:.2f}'.format)\n",
    "\n",
    "dfResults = pd.DataFrame(results, columns =['Model Name', 'MAE', 'MSE', 'RMSE']) \n",
    "dfResults.sort_values(by=[\"MAE\"])"
   ]
  },
  {
   "cell_type": "markdown",
   "metadata": {
    "id": "dMEIKle0MAhv"
   },
   "source": [
    "## Feature Importance"
   ]
  },
  {
   "cell_type": "code",
   "execution_count": 11,
   "metadata": {
    "colab": {
     "base_uri": "https://localhost:8080/"
    },
    "executionInfo": {
     "elapsed": 15095,
     "status": "ok",
     "timestamp": 1606514956220,
     "user": {
      "displayName": "Prateek Vachher",
      "photoUrl": "https://lh3.googleusercontent.com/a-/AOh14Gg7GJwDywSgfG45fhpZaOnQVMlfpl45WmwJyvT1Ow=s64",
      "userId": "02995801987827348544"
     },
     "user_tz": 360
    },
    "id": "pJxvX5XXriAF",
    "outputId": "9970112c-5401-4208-8426-569863bb0b8e"
   },
   "outputs": [
    {
     "data": {
      "text/plain": [
       "RandomForestRegressor(n_jobs=-1)"
      ]
     },
     "execution_count": 11,
     "metadata": {},
     "output_type": "execute_result"
    }
   ],
   "source": [
    "model = ensemble.RandomForestRegressor(n_jobs=-1)\n",
    "model.fit(X_train, y_train)"
   ]
  },
  {
   "cell_type": "code",
   "execution_count": 12,
   "metadata": {},
   "outputs": [
    {
     "data": {
      "image/png": "[encoded data removed]",
      "text/plain": [
       "<Figure size 432x288 with 1 Axes>"
      ]
     },
     "metadata": {
      "needs_background": "light"
     },
     "output_type": "display_data"
    }
   ],
   "source": [
    "features = X.columns\n",
    "importances = model.feature_importances_\n",
    "indices = np.argsort(importances)[-10:]\n",
    "\n",
    "plt.title('Feature Importances')\n",
    "plt.barh(range(len(indices)), importances[indices], color='b', align='center')\n",
    "plt.yticks(range(len(indices)), [features[i] for i in indices])\n",
    "plt.xlabel('Relative Importance')\n",
    "plt.show()"
   ]
  },
  {
   "cell_type": "markdown",
   "metadata": {},
   "source": [
    "## Grid Search for Best HyperParameter - Random Forest"
   ]
  },
  {
   "cell_type": "code",
   "execution_count": 41,
   "metadata": {},
   "outputs": [
    {
     "name": "stdout",
     "output_type": "stream",
     "text": [
      "Fitting 3 folds for each of 100 candidates, totalling 300 fits\n"
     ]
    },
    {
     "name": "stderr",
     "output_type": "stream",
     "text": [
      "[Parallel(n_jobs=-1)]: Using backend LokyBackend with 16 concurrent workers.\n",
      "[Parallel(n_jobs=-1)]: Done   9 tasks      | elapsed:   29.5s\n",
      "[Parallel(n_jobs=-1)]: Done 130 tasks      | elapsed: 10.9min\n",
      "[Parallel(n_jobs=-1)]: Done 300 out of 300 | elapsed: 28.3min finished\n"
     ]
    },
    {
     "data": {
      "text/plain": [
       "RandomizedSearchCV(cv=3, estimator=RandomForestRegressor(), n_iter=100,\n",
       "                   n_jobs=-1,\n",
       "                   param_distributions={'bootstrap': [True, False],\n",
       "                                        'max_depth': [10, 20, 30, 40, 50, 60,\n",
       "                                                      70, 80, 90, 100, 110,\n",
       "                                                      None],\n",
       "                                        'max_features': ['auto', 'sqrt'],\n",
       "                                        'min_samples_leaf': [1, 2, 4],\n",
       "                                        'min_samples_split': [2, 5, 10],\n",
       "                                        'n_estimators': [200, 400, 600, 800,\n",
       "                                                         1000, 1200, 1400, 1600,\n",
       "                                                         1800, 2000]},\n",
       "                   random_state=42, verbose=2)"
      ]
     },
     "execution_count": 41,
     "metadata": {},
     "output_type": "execute_result"
    }
   ],
   "source": [
    "from sklearn.model_selection import RandomizedSearchCV\n",
    "\n",
    "n_estimators = [int(x) for x in np.linspace(start = 200, stop = 2000, num = 10)]\n",
    "\n",
    "max_features = ['auto', 'sqrt']\n",
    "\n",
    "max_depth = [int(x) for x in np.linspace(10, 110, num = 11)]\n",
    "max_depth.append(None)\n",
    "\n",
    "min_samples_split = [2, 5, 10]\n",
    "\n",
    "min_samples_leaf = [1, 2, 4]\n",
    "\n",
    "bootstrap = [True, False]\n",
    "\n",
    "random_grid = {'n_estimators': n_estimators,\n",
    "               'max_features': max_features,\n",
    "               'max_depth': max_depth,\n",
    "               'min_samples_split': min_samples_split,\n",
    "               'min_samples_leaf': min_samples_leaf,\n",
    "               'bootstrap': bootstrap}\n",
    "\n",
    "rf = ensemble.RandomForestRegressor()\n",
    "\n",
    "rf_random = RandomizedSearchCV(estimator = rf, param_distributions = random_grid, n_iter = 100, cv = 3, verbose=2, random_state=42, n_jobs = -1)\n",
    "\n",
    "rf_random.fit(X_train, y_train)"
   ]
  },
  {
   "cell_type": "code",
   "execution_count": 42,
   "metadata": {},
   "outputs": [
    {
     "data": {
      "text/plain": [
       "RandomForestRegressor(max_depth=100, max_features='sqrt', min_samples_split=5,\n",
       "                      n_estimators=400)"
      ]
     },
     "execution_count": 42,
     "metadata": {},
     "output_type": "execute_result"
    }
   ],
   "source": [
    "rf_random.best_estimator_"
   ]
  },
  {
   "cell_type": "code",
   "execution_count": 43,
   "metadata": {},
   "outputs": [
    {
     "name": "stdout",
     "output_type": "stream",
     "text": [
      "Mean Absolute Error: 53839.61040534441\n",
      "Mean Squared Error: 11723129631.063478\n",
      "Root Mean Squared Error: 108273.40223278974\n",
      "\n",
      "\n"
     ]
    }
   ],
   "source": [
    "y_pred = rf_random.predict(X_test)\n",
    "print('Mean Absolute Error:', metrics.mean_absolute_error(y_test, y_pred))  \n",
    "print('Mean Squared Error:', metrics.mean_squared_error(y_test, y_pred))  \n",
    "print('Root Mean Squared Error:', np.sqrt(metrics.mean_squared_error(y_test, y_pred)))"
   ]
  },
  {
   "cell_type": "markdown",
   "metadata": {},
   "source": [
    "The purpose of this project is to predict house value using a variety of machine learning methods. Both homebuyers and sellers need a reliable metric in order to either determine if a house price is a fair deal. In order for this to happen, natural language, and numerical features will be combined into a machine learning pipeline. \n",
    "\n",
    "We use Mean Absolute Error (MAE) as our evaluator of success. Our system was able to achieve an MAE of \\\\$53,839. For reference, Zillow's Z-Estimate feature has an MAE of \\\\$44,800 on the dataset we created. That is a difference of $9,039 (about 16%) between our method and Zillow's"
   ]
  },
  {
   "cell_type": "markdown",
   "metadata": {},
   "source": [
    "### Future Steps\n",
    "\n",
    "* Could build more optimized Neural Networks by trying out different Neuron Layouts and Activation Layers\n",
    "\n",
    "* Could scrape more data for the model to learn from\n",
    "\n",
    "* Use images of the house as an attribute to boost the accuracy of the model\n",
    "\n",
    "* Use Latitude and Longitude to understand the position of the house (Corner House, in a Cul-de-sac, etc.)\n",
    "\n",
    "* Understand Seasonality of the house prices in a given region"
   ]
  }
 ],
 "metadata": {
  "accelerator": "GPU",
  "colab": {
   "collapsed_sections": [],
   "name": "Model.ipynb",
   "provenance": []
  },
  "kernelspec": {
   "display_name": "Python 3",
   "language": "python",
   "name": "python3"
  },
  "language_info": {
   "codemirror_mode": {
    "name": "ipython",
    "version": 3
   },
   "file_extension": ".py",
   "mimetype": "text/x-python",
   "name": "python",
   "nbconvert_exporter": "python",
   "pygments_lexer": "ipython3",
   "version": "3.6.12"
  }
 },
 "nbformat": 4,
 "nbformat_minor": 1
}
