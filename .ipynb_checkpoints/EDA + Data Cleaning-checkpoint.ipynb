{
 "cells": [
  {
   "cell_type": "code",
   "execution_count": 91,
   "metadata": {},
   "outputs": [],
   "source": [
    "import pandas as pd\n",
    "import pickle\n",
    "from pandas_profiling import ProfileReport\n",
    "\n",
    "pd.set_option('display.max_columns', 500)"
   ]
  },
  {
   "cell_type": "code",
   "execution_count": 92,
   "metadata": {},
   "outputs": [
    {
     "data": {
      "text/html": [
       "<div>\n",
       "<style scoped>\n",
       "    .dataframe tbody tr th:only-of-type {\n",
       "        vertical-align: middle;\n",
       "    }\n",
       "\n",
       "    .dataframe tbody tr th {\n",
       "        vertical-align: top;\n",
       "    }\n",
       "\n",
       "    .dataframe thead th {\n",
       "        text-align: right;\n",
       "    }\n",
       "</style>\n",
       "<table border=\"1\" class=\"dataframe\">\n",
       "  <thead>\n",
       "    <tr style=\"text-align: right;\">\n",
       "      <th></th>\n",
       "      <th>totPurchaseAmt</th>\n",
       "      <th>street1</th>\n",
       "      <th>zip</th>\n",
       "      <th>property</th>\n",
       "      <th>ZillowURL</th>\n",
       "      <th>zpid</th>\n",
       "      <th>streetAddress</th>\n",
       "      <th>zipcode</th>\n",
       "      <th>city</th>\n",
       "      <th>state</th>\n",
       "      <th>latitude</th>\n",
       "      <th>longitude</th>\n",
       "      <th>dateSold</th>\n",
       "      <th>bathrooms</th>\n",
       "      <th>bedrooms</th>\n",
       "      <th>livingArea</th>\n",
       "      <th>yearBuilt</th>\n",
       "      <th>lotSize</th>\n",
       "      <th>homeType</th>\n",
       "      <th>homeStatus</th>\n",
       "      <th>photoCount</th>\n",
       "      <th>imageLink</th>\n",
       "      <th>daysOnZillow</th>\n",
       "      <th>isFeatured</th>\n",
       "      <th>shouldHighlight</th>\n",
       "      <th>brokerId</th>\n",
       "      <th>zestimate</th>\n",
       "      <th>rentZestimate</th>\n",
       "      <th>listing_sub_type</th>\n",
       "      <th>priceReduction</th>\n",
       "      <th>isUnmappable</th>\n",
       "      <th>rentalPetsFlags</th>\n",
       "      <th>mediumImageLink</th>\n",
       "      <th>isPreforeclosureAuction</th>\n",
       "      <th>homeStatusForHDP</th>\n",
       "      <th>festimate</th>\n",
       "      <th>isListingOwnedByCurrentSignedInAgent</th>\n",
       "      <th>isListingClaimedByCurrentSignedInUser</th>\n",
       "      <th>hiResImageLink</th>\n",
       "      <th>watchImageLink</th>\n",
       "      <th>tvImageLink</th>\n",
       "      <th>tvCollectionImageLink</th>\n",
       "      <th>tvHighResImageLink</th>\n",
       "      <th>zillowHasRightsToImages</th>\n",
       "      <th>desktopWebHdpImageLink</th>\n",
       "      <th>isNonOwnerOccupied</th>\n",
       "      <th>hideZestimate</th>\n",
       "      <th>isPremierBuilder</th>\n",
       "      <th>isZillowOwned</th>\n",
       "      <th>currency</th>\n",
       "      <th>country</th>\n",
       "      <th>taxAssessedValue</th>\n",
       "      <th>streetAddressOnly</th>\n",
       "      <th>unit</th>\n",
       "      <th>averageSchoolRating</th>\n",
       "      <th>description</th>\n",
       "      <th>price</th>\n",
       "      <th>priceForHDP</th>\n",
       "      <th>hoaFee</th>\n",
       "      <th>contactPhone</th>\n",
       "      <th>status</th>\n",
       "    </tr>\n",
       "  </thead>\n",
       "  <tbody>\n",
       "    <tr>\n",
       "      <th>0</th>\n",
       "      <td>152000.0</td>\n",
       "      <td>538 78th Avenue NE</td>\n",
       "      <td>55432.0</td>\n",
       "      <td>538 78th Avenue NE 55432</td>\n",
       "      <td>https://www.zillow.com/homedetails/538-78th-Av...</td>\n",
       "      <td>1475959</td>\n",
       "      <td>538 78th Ave NE</td>\n",
       "      <td>55432</td>\n",
       "      <td>Spring Lake Park</td>\n",
       "      <td>MN</td>\n",
       "      <td>45.108779</td>\n",
       "      <td>-93.257808</td>\n",
       "      <td>1569308400000</td>\n",
       "      <td>1.0</td>\n",
       "      <td>2.0</td>\n",
       "      <td>1300.0</td>\n",
       "      <td>1984</td>\n",
       "      <td>1225</td>\n",
       "      <td>CONDO</td>\n",
       "      <td>RECENTLY_SOLD</td>\n",
       "      <td>4</td>\n",
       "      <td>https://photos.zillowstatic.com/p_g/IS1fwt0hhf...</td>\n",
       "      <td>174</td>\n",
       "      <td>False</td>\n",
       "      <td>False</td>\n",
       "      <td>0</td>\n",
       "      <td>158110.0</td>\n",
       "      <td>1150.0</td>\n",
       "      <td>NaN</td>\n",
       "      <td>NaN</td>\n",
       "      <td>False</td>\n",
       "      <td>64.0</td>\n",
       "      <td>https://photos.zillowstatic.com/p_c/IS1fwt0hhf...</td>\n",
       "      <td>False</td>\n",
       "      <td>RECENTLY_SOLD</td>\n",
       "      <td>158110.0</td>\n",
       "      <td>False</td>\n",
       "      <td>False</td>\n",
       "      <td>https://photos.zillowstatic.com/p_f/IS1fwt0hhf...</td>\n",
       "      <td>https://photos.zillowstatic.com/p_j/IS1fwt0hhf...</td>\n",
       "      <td>https://photos.zillowstatic.com/p_m/IS1fwt0hhf...</td>\n",
       "      <td>https://photos.zillowstatic.com/p_l/IS1fwt0hhf...</td>\n",
       "      <td>https://photos.zillowstatic.com/p_n/IS1fwt0hhf...</td>\n",
       "      <td>True</td>\n",
       "      <td>https://photos.zillowstatic.com/p_h/IS1fwt0hhf...</td>\n",
       "      <td>NaN</td>\n",
       "      <td>False</td>\n",
       "      <td>False</td>\n",
       "      <td>False</td>\n",
       "      <td>USD</td>\n",
       "      <td>USA</td>\n",
       "      <td>-1.0</td>\n",
       "      <td>538 78th Ave NE</td>\n",
       "      <td></td>\n",
       "      <td>4.0</td>\n",
       "      <td>Just move in! End unit, deck, double garage, w...</td>\n",
       "      <td>152000.0</td>\n",
       "      <td>152000.0</td>\n",
       "      <td>230.0</td>\n",
       "      <td>NaN</td>\n",
       "      <td>Completed</td>\n",
       "    </tr>\n",
       "  </tbody>\n",
       "</table>\n",
       "</div>"
      ],
      "text/plain": [
       "   totPurchaseAmt             street1      zip                  property  \\\n",
       "0        152000.0  538 78th Avenue NE  55432.0  538 78th Avenue NE 55432   \n",
       "\n",
       "                                           ZillowURL     zpid  \\\n",
       "0  https://www.zillow.com/homedetails/538-78th-Av...  1475959   \n",
       "\n",
       "     streetAddress  zipcode              city state   latitude  longitude  \\\n",
       "0  538 78th Ave NE    55432  Spring Lake Park    MN  45.108779 -93.257808   \n",
       "\n",
       "        dateSold  bathrooms  bedrooms  livingArea  yearBuilt  lotSize  \\\n",
       "0  1569308400000        1.0       2.0      1300.0       1984     1225   \n",
       "\n",
       "  homeType     homeStatus  photoCount  \\\n",
       "0    CONDO  RECENTLY_SOLD           4   \n",
       "\n",
       "                                           imageLink  daysOnZillow  \\\n",
       "0  https://photos.zillowstatic.com/p_g/IS1fwt0hhf...           174   \n",
       "\n",
       "   isFeatured  shouldHighlight  brokerId  zestimate  rentZestimate  \\\n",
       "0       False            False         0   158110.0         1150.0   \n",
       "\n",
       "   listing_sub_type priceReduction  isUnmappable  rentalPetsFlags  \\\n",
       "0               NaN            NaN         False             64.0   \n",
       "\n",
       "                                     mediumImageLink  isPreforeclosureAuction  \\\n",
       "0  https://photos.zillowstatic.com/p_c/IS1fwt0hhf...                    False   \n",
       "\n",
       "  homeStatusForHDP  festimate  isListingOwnedByCurrentSignedInAgent  \\\n",
       "0    RECENTLY_SOLD   158110.0                                 False   \n",
       "\n",
       "   isListingClaimedByCurrentSignedInUser  \\\n",
       "0                                  False   \n",
       "\n",
       "                                      hiResImageLink  \\\n",
       "0  https://photos.zillowstatic.com/p_f/IS1fwt0hhf...   \n",
       "\n",
       "                                      watchImageLink  \\\n",
       "0  https://photos.zillowstatic.com/p_j/IS1fwt0hhf...   \n",
       "\n",
       "                                         tvImageLink  \\\n",
       "0  https://photos.zillowstatic.com/p_m/IS1fwt0hhf...   \n",
       "\n",
       "                               tvCollectionImageLink  \\\n",
       "0  https://photos.zillowstatic.com/p_l/IS1fwt0hhf...   \n",
       "\n",
       "                                  tvHighResImageLink  zillowHasRightsToImages  \\\n",
       "0  https://photos.zillowstatic.com/p_n/IS1fwt0hhf...                     True   \n",
       "\n",
       "                              desktopWebHdpImageLink isNonOwnerOccupied  \\\n",
       "0  https://photos.zillowstatic.com/p_h/IS1fwt0hhf...                NaN   \n",
       "\n",
       "   hideZestimate  isPremierBuilder  isZillowOwned currency country  \\\n",
       "0          False             False          False      USD     USA   \n",
       "\n",
       "   taxAssessedValue streetAddressOnly unit  averageSchoolRating  \\\n",
       "0              -1.0   538 78th Ave NE                       4.0   \n",
       "\n",
       "                                         description     price  priceForHDP  \\\n",
       "0  Just move in! End unit, deck, double garage, w...  152000.0     152000.0   \n",
       "\n",
       "   hoaFee  contactPhone     status  \n",
       "0   230.0           NaN  Completed  "
      ]
     },
     "execution_count": 92,
     "metadata": {},
     "output_type": "execute_result"
    }
   ],
   "source": [
    "df = pd.read_csv(\"datafiles/data.csv\")\n",
    "df.drop([\"Unnamed: 0\", \"index\"], axis=1, inplace=True)\n",
    "df.head(1)"
   ]
  },
  {
   "cell_type": "code",
   "execution_count": 102,
   "metadata": {},
   "outputs": [],
   "source": [
    "data = df[[\"totPurchaseAmt\", \"latitude\", \"longitude\", \"bathrooms\", \n",
    "            \"bedrooms\", \"livingArea\", \"yearBuilt\", \"lotSize\", \n",
    "            \"averageSchoolRating\", \"zip\"]]\n",
    "\n",
    "data = data.dropna()\n",
    "\n",
    "data = data[data[\"yearBuilt\"] != -1]\n",
    "data = data[data[\"lotSize\"] != -1]\n",
    "data = data[data[\"totPurchaseAmt\"] > 10000]"
   ]
  },
  {
   "cell_type": "code",
   "execution_count": 103,
   "metadata": {},
   "outputs": [],
   "source": [
    "profile = ProfileReport(data, title=\"Pandas Profiling Report\", minimal=True)"
   ]
  },
  {
   "cell_type": "code",
   "execution_count": 104,
   "metadata": {
    "scrolled": false
   },
   "outputs": [
    {
     "data": {
      "application/vnd.jupyter.widget-view+json": {
       "model_id": "101eb173cb5744b2877a6a8ee73f9fce",
       "version_major": 2,
       "version_minor": 0
      },
      "text/plain": [
       "HBox(children=(FloatProgress(value=0.0, description='Summarize dataset', max=20.0, style=ProgressStyle(descrip…"
      ]
     },
     "metadata": {},
     "output_type": "display_data"
    },
    {
     "name": "stdout",
     "output_type": "stream",
     "text": [
      "\n"
     ]
    },
    {
     "data": {
      "application/vnd.jupyter.widget-view+json": {
       "model_id": "a18a8ccb73954b699308d9872e0e5da6",
       "version_major": 2,
       "version_minor": 0
      },
      "text/plain": [
       "HBox(children=(FloatProgress(value=0.0, description='Generate report structure', max=1.0, style=ProgressStyle(…"
      ]
     },
     "metadata": {},
     "output_type": "display_data"
    },
    {
     "name": "stdout",
     "output_type": "stream",
     "text": [
      "\n"
     ]
    },
    {
     "data": {
      "application/vnd.jupyter.widget-view+json": {
       "model_id": "",
       "version_major": 2,
       "version_minor": 0
      },
      "text/plain": [
       "HBox(children=(FloatProgress(value=0.0, description='Render widgets', max=1.0, style=ProgressStyle(description…"
      ]
     },
     "metadata": {},
     "output_type": "display_data"
    },
    {
     "data": {
      "application/vnd.jupyter.widget-view+json": {
       "model_id": "583be3865bfd4184acc5fb82fa1d251a",
       "version_major": 2,
       "version_minor": 0
      },
      "text/plain": [
       "VBox(children=(Tab(children=(Tab(children=(GridBox(children=(VBox(children=(GridspecLayout(children=(HTML(valu…"
      ]
     },
     "metadata": {},
     "output_type": "display_data"
    }
   ],
   "source": [
    "profile.to_widgets()"
   ]
  },
  {
   "cell_type": "code",
   "execution_count": null,
   "metadata": {},
   "outputs": [],
   "source": []
  }
 ],
 "metadata": {
  "kernelspec": {
   "display_name": "Python 3",
   "language": "python",
   "name": "python3"
  },
  "language_info": {
   "codemirror_mode": {
    "name": "ipython",
    "version": 3
   },
   "file_extension": ".py",
   "mimetype": "text/x-python",
   "name": "python",
   "nbconvert_exporter": "python",
   "pygments_lexer": "ipython3",
   "version": "3.8.3"
  }
 },
 "nbformat": 4,
 "nbformat_minor": 4
}
