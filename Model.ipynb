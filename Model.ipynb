{
 "cells": [
  {
   "cell_type": "markdown",
   "metadata": {
    "id": "KC9HZTS-riAD"
   },
   "source": [
    "## Loading Dataset"
   ]
  },
  {
   "cell_type": "code",
   "execution_count": 3,
   "metadata": {
    "executionInfo": {
     "elapsed": 2498,
     "status": "ok",
     "timestamp": 1606514399940,
     "user": {
      "displayName": "Prateek Vachher",
      "photoUrl": "https://lh3.googleusercontent.com/a-/AOh14Gg7GJwDywSgfG45fhpZaOnQVMlfpl45WmwJyvT1Ow=s64",
      "userId": "02995801987827348544"
     },
     "user_tz": 360
    },
    "id": "zMmctJgOriAD"
   },
   "outputs": [
    {
     "name": "stderr",
     "output_type": "stream",
     "text": [
      "Using TensorFlow backend.\n"
     ]
    }
   ],
   "source": [
    "import pickle\n",
    "import pandas as pd\n",
    "import numpy as np\n",
    "\n",
    "from matplotlib import pyplot as plt\n",
    "\n",
    "from keras import applications\n",
    "from keras.models import Sequential\n",
    "from keras.layers import Dense, Dropout, Flatten, Conv2D, MaxPooling2D\n",
    "from keras.layers.normalization import BatchNormalization\n",
    "from keras.utils import to_categorical\n",
    "from keras.wrappers.scikit_learn import KerasRegressor\n",
    "\n",
    "from sklearn.tree import DecisionTreeRegressor\n",
    "from sklearn import linear_model, metrics, svm, neighbors, gaussian_process, ensemble, neural_network\n",
    "from sklearn.model_selection import train_test_split\n",
    "from sklearn.preprocessing import StandardScaler\n",
    "from sklearn.metrics import mean_squared_error, r2_score, mean_absolute_error"
   ]
  },
  {
   "cell_type": "code",
   "execution_count": 28,
   "metadata": {
    "colab": {
     "base_uri": "https://localhost:8080/",
     "height": 204
    },
    "executionInfo": {
     "elapsed": 225,
     "status": "ok",
     "timestamp": 1606514932370,
     "user": {
      "displayName": "Prateek Vachher",
      "photoUrl": "https://lh3.googleusercontent.com/a-/AOh14Gg7GJwDywSgfG45fhpZaOnQVMlfpl45WmwJyvT1Ow=s64",
      "userId": "02995801987827348544"
     },
     "user_tz": 360
    },
    "id": "rEeHUQ4friAD",
    "outputId": "9fbf4684-81c9-434c-a696-8e48b42c8985"
   },
   "outputs": [
    {
     "data": {
      "text/html": [
       "<div>\n",
       "<style scoped>\n",
       "    .dataframe tbody tr th:only-of-type {\n",
       "        vertical-align: middle;\n",
       "    }\n",
       "\n",
       "    .dataframe tbody tr th {\n",
       "        vertical-align: top;\n",
       "    }\n",
       "\n",
       "    .dataframe thead th {\n",
       "        text-align: right;\n",
       "    }\n",
       "</style>\n",
       "<table border=\"1\" class=\"dataframe\">\n",
       "  <thead>\n",
       "    <tr style=\"text-align: right;\">\n",
       "      <th></th>\n",
       "      <th>totPurchaseAmt</th>\n",
       "      <th>latitude</th>\n",
       "      <th>longitude</th>\n",
       "      <th>bathrooms</th>\n",
       "      <th>bedrooms</th>\n",
       "      <th>livingArea</th>\n",
       "      <th>yearBuilt</th>\n",
       "      <th>averageSchoolRating</th>\n",
       "      <th>zip</th>\n",
       "      <th>zestimate</th>\n",
       "      <th>sentiment</th>\n",
       "    </tr>\n",
       "  </thead>\n",
       "  <tbody>\n",
       "    <tr>\n",
       "      <th>1</th>\n",
       "      <td>198000.00</td>\n",
       "      <td>45.24</td>\n",
       "      <td>-93.41</td>\n",
       "      <td>2.00</td>\n",
       "      <td>4.00</td>\n",
       "      <td>1716.00</td>\n",
       "      <td>1996</td>\n",
       "      <td>5.33</td>\n",
       "      <td>55303</td>\n",
       "      <td>285985.00</td>\n",
       "      <td>0.49</td>\n",
       "    </tr>\n",
       "    <tr>\n",
       "      <th>3</th>\n",
       "      <td>415000.00</td>\n",
       "      <td>45.28</td>\n",
       "      <td>-93.41</td>\n",
       "      <td>2.00</td>\n",
       "      <td>3.00</td>\n",
       "      <td>3108.00</td>\n",
       "      <td>1985</td>\n",
       "      <td>6.33</td>\n",
       "      <td>55303</td>\n",
       "      <td>431995.00</td>\n",
       "      <td>0.26</td>\n",
       "    </tr>\n",
       "    <tr>\n",
       "      <th>4</th>\n",
       "      <td>329900.00</td>\n",
       "      <td>45.14</td>\n",
       "      <td>-93.02</td>\n",
       "      <td>3.00</td>\n",
       "      <td>4.00</td>\n",
       "      <td>1814.00</td>\n",
       "      <td>2001</td>\n",
       "      <td>6.50</td>\n",
       "      <td>55038</td>\n",
       "      <td>318162.00</td>\n",
       "      <td>0.27</td>\n",
       "    </tr>\n",
       "    <tr>\n",
       "      <th>5</th>\n",
       "      <td>262000.00</td>\n",
       "      <td>45.16</td>\n",
       "      <td>-93.30</td>\n",
       "      <td>2.00</td>\n",
       "      <td>3.00</td>\n",
       "      <td>2158.00</td>\n",
       "      <td>1985</td>\n",
       "      <td>4.67</td>\n",
       "      <td>55043</td>\n",
       "      <td>272169.00</td>\n",
       "      <td>0.91</td>\n",
       "    </tr>\n",
       "    <tr>\n",
       "      <th>6</th>\n",
       "      <td>280000.00</td>\n",
       "      <td>45.28</td>\n",
       "      <td>-93.33</td>\n",
       "      <td>2.00</td>\n",
       "      <td>3.00</td>\n",
       "      <td>1993.00</td>\n",
       "      <td>1976</td>\n",
       "      <td>7.33</td>\n",
       "      <td>55304</td>\n",
       "      <td>290365.00</td>\n",
       "      <td>0.94</td>\n",
       "    </tr>\n",
       "  </tbody>\n",
       "</table>\n",
       "</div>"
      ],
      "text/plain": [
       "   totPurchaseAmt  latitude  longitude  bathrooms  bedrooms  livingArea  \\\n",
       "1       198000.00     45.24     -93.41       2.00      4.00     1716.00   \n",
       "3       415000.00     45.28     -93.41       2.00      3.00     3108.00   \n",
       "4       329900.00     45.14     -93.02       3.00      4.00     1814.00   \n",
       "5       262000.00     45.16     -93.30       2.00      3.00     2158.00   \n",
       "6       280000.00     45.28     -93.33       2.00      3.00     1993.00   \n",
       "\n",
       "   yearBuilt  averageSchoolRating    zip  zestimate  sentiment  \n",
       "1       1996                 5.33  55303  285985.00       0.49  \n",
       "3       1985                 6.33  55303  431995.00       0.26  \n",
       "4       2001                 6.50  55038  318162.00       0.27  \n",
       "5       1985                 4.67  55043  272169.00       0.91  \n",
       "6       1976                 7.33  55304  290365.00       0.94  "
      ]
     },
     "execution_count": 28,
     "metadata": {},
     "output_type": "execute_result"
    }
   ],
   "source": [
    "df = pickle.load(open(\"datafiles/after-EDA.ft\", \"rb\"))\n",
    "df.head()"
   ]
  },
  {
   "cell_type": "code",
   "execution_count": 29,
   "metadata": {
    "colab": {
     "base_uri": "https://localhost:8080/"
    },
    "executionInfo": {
     "elapsed": 192,
     "status": "ok",
     "timestamp": 1606514935614,
     "user": {
      "displayName": "Prateek Vachher",
      "photoUrl": "https://lh3.googleusercontent.com/a-/AOh14Gg7GJwDywSgfG45fhpZaOnQVMlfpl45WmwJyvT1Ow=s64",
      "userId": "02995801987827348544"
     },
     "user_tz": 360
    },
    "id": "bjDpXRN4riAE",
    "outputId": "0703085b-903a-4567-bf0f-32d22986ffe2"
   },
   "outputs": [
    {
     "data": {
      "text/plain": [
       "28078"
      ]
     },
     "execution_count": 29,
     "metadata": {},
     "output_type": "execute_result"
    }
   ],
   "source": [
    "len(df)"
   ]
  },
  {
   "cell_type": "code",
   "execution_count": 30,
   "metadata": {
    "executionInfo": {
     "elapsed": 346,
     "status": "ok",
     "timestamp": 1606514933313,
     "user": {
      "displayName": "Prateek Vachher",
      "photoUrl": "https://lh3.googleusercontent.com/a-/AOh14Gg7GJwDywSgfG45fhpZaOnQVMlfpl45WmwJyvT1Ow=s64",
      "userId": "02995801987827348544"
     },
     "user_tz": 360
    },
    "id": "to7cc2lmriAE"
   },
   "outputs": [],
   "source": [
    "grouped = df.groupby('zip')\n",
    "df = grouped.filter(lambda x: x['zip'].count() > 100)"
   ]
  },
  {
   "cell_type": "markdown",
   "metadata": {
    "id": "N7W8N4rlriAE"
   },
   "source": [
    "## Converting Categorical Variables "
   ]
  },
  {
   "cell_type": "code",
   "execution_count": 31,
   "metadata": {
    "colab": {
     "base_uri": "https://localhost:8080/",
     "height": 253
    },
    "executionInfo": {
     "elapsed": 352,
     "status": "ok",
     "timestamp": 1606514493467,
     "user": {
      "displayName": "Prateek Vachher",
      "photoUrl": "https://lh3.googleusercontent.com/a-/AOh14Gg7GJwDywSgfG45fhpZaOnQVMlfpl45WmwJyvT1Ow=s64",
      "userId": "02995801987827348544"
     },
     "user_tz": 360
    },
    "id": "6pdsXA5priAE",
    "outputId": "d7b5cd1e-e4da-4d16-8176-01d6d10880fb"
   },
   "outputs": [
    {
     "data": {
      "text/html": [
       "<div>\n",
       "<style scoped>\n",
       "    .dataframe tbody tr th:only-of-type {\n",
       "        vertical-align: middle;\n",
       "    }\n",
       "\n",
       "    .dataframe tbody tr th {\n",
       "        vertical-align: top;\n",
       "    }\n",
       "\n",
       "    .dataframe thead th {\n",
       "        text-align: right;\n",
       "    }\n",
       "</style>\n",
       "<table border=\"1\" class=\"dataframe\">\n",
       "  <thead>\n",
       "    <tr style=\"text-align: right;\">\n",
       "      <th></th>\n",
       "      <th>totPurchaseAmt</th>\n",
       "      <th>latitude</th>\n",
       "      <th>longitude</th>\n",
       "      <th>bathrooms</th>\n",
       "      <th>bedrooms</th>\n",
       "      <th>livingArea</th>\n",
       "      <th>yearBuilt</th>\n",
       "      <th>averageSchoolRating</th>\n",
       "      <th>zestimate</th>\n",
       "      <th>sentiment</th>\n",
       "      <th>...</th>\n",
       "      <th>zip_55431</th>\n",
       "      <th>zip_55432</th>\n",
       "      <th>zip_55433</th>\n",
       "      <th>zip_55434</th>\n",
       "      <th>zip_55437</th>\n",
       "      <th>zip_55443</th>\n",
       "      <th>zip_55446</th>\n",
       "      <th>zip_55447</th>\n",
       "      <th>zip_55448</th>\n",
       "      <th>zip_55449</th>\n",
       "    </tr>\n",
       "  </thead>\n",
       "  <tbody>\n",
       "    <tr>\n",
       "      <th>1</th>\n",
       "      <td>198000.00</td>\n",
       "      <td>45.24</td>\n",
       "      <td>-93.41</td>\n",
       "      <td>2.00</td>\n",
       "      <td>4.00</td>\n",
       "      <td>1716.00</td>\n",
       "      <td>1996</td>\n",
       "      <td>5.33</td>\n",
       "      <td>285985.00</td>\n",
       "      <td>0.49</td>\n",
       "      <td>...</td>\n",
       "      <td>0</td>\n",
       "      <td>0</td>\n",
       "      <td>0</td>\n",
       "      <td>0</td>\n",
       "      <td>0</td>\n",
       "      <td>0</td>\n",
       "      <td>0</td>\n",
       "      <td>0</td>\n",
       "      <td>0</td>\n",
       "      <td>0</td>\n",
       "    </tr>\n",
       "    <tr>\n",
       "      <th>3</th>\n",
       "      <td>415000.00</td>\n",
       "      <td>45.28</td>\n",
       "      <td>-93.41</td>\n",
       "      <td>2.00</td>\n",
       "      <td>3.00</td>\n",
       "      <td>3108.00</td>\n",
       "      <td>1985</td>\n",
       "      <td>6.33</td>\n",
       "      <td>431995.00</td>\n",
       "      <td>0.26</td>\n",
       "      <td>...</td>\n",
       "      <td>0</td>\n",
       "      <td>0</td>\n",
       "      <td>0</td>\n",
       "      <td>0</td>\n",
       "      <td>0</td>\n",
       "      <td>0</td>\n",
       "      <td>0</td>\n",
       "      <td>0</td>\n",
       "      <td>0</td>\n",
       "      <td>0</td>\n",
       "    </tr>\n",
       "    <tr>\n",
       "      <th>4</th>\n",
       "      <td>329900.00</td>\n",
       "      <td>45.14</td>\n",
       "      <td>-93.02</td>\n",
       "      <td>3.00</td>\n",
       "      <td>4.00</td>\n",
       "      <td>1814.00</td>\n",
       "      <td>2001</td>\n",
       "      <td>6.50</td>\n",
       "      <td>318162.00</td>\n",
       "      <td>0.27</td>\n",
       "      <td>...</td>\n",
       "      <td>0</td>\n",
       "      <td>0</td>\n",
       "      <td>0</td>\n",
       "      <td>0</td>\n",
       "      <td>0</td>\n",
       "      <td>0</td>\n",
       "      <td>0</td>\n",
       "      <td>0</td>\n",
       "      <td>0</td>\n",
       "      <td>0</td>\n",
       "    </tr>\n",
       "    <tr>\n",
       "      <th>6</th>\n",
       "      <td>280000.00</td>\n",
       "      <td>45.28</td>\n",
       "      <td>-93.33</td>\n",
       "      <td>2.00</td>\n",
       "      <td>3.00</td>\n",
       "      <td>1993.00</td>\n",
       "      <td>1976</td>\n",
       "      <td>7.33</td>\n",
       "      <td>290365.00</td>\n",
       "      <td>0.94</td>\n",
       "      <td>...</td>\n",
       "      <td>0</td>\n",
       "      <td>0</td>\n",
       "      <td>0</td>\n",
       "      <td>0</td>\n",
       "      <td>0</td>\n",
       "      <td>0</td>\n",
       "      <td>0</td>\n",
       "      <td>0</td>\n",
       "      <td>0</td>\n",
       "      <td>0</td>\n",
       "    </tr>\n",
       "    <tr>\n",
       "      <th>7</th>\n",
       "      <td>237000.00</td>\n",
       "      <td>45.11</td>\n",
       "      <td>-93.26</td>\n",
       "      <td>2.00</td>\n",
       "      <td>3.00</td>\n",
       "      <td>2058.00</td>\n",
       "      <td>1959</td>\n",
       "      <td>3.67</td>\n",
       "      <td>246844.00</td>\n",
       "      <td>0.99</td>\n",
       "      <td>...</td>\n",
       "      <td>0</td>\n",
       "      <td>1</td>\n",
       "      <td>0</td>\n",
       "      <td>0</td>\n",
       "      <td>0</td>\n",
       "      <td>0</td>\n",
       "      <td>0</td>\n",
       "      <td>0</td>\n",
       "      <td>0</td>\n",
       "      <td>0</td>\n",
       "    </tr>\n",
       "  </tbody>\n",
       "</table>\n",
       "<p>5 rows × 99 columns</p>\n",
       "</div>"
      ],
      "text/plain": [
       "   totPurchaseAmt  latitude  longitude  bathrooms  bedrooms  livingArea  \\\n",
       "1       198000.00     45.24     -93.41       2.00      4.00     1716.00   \n",
       "3       415000.00     45.28     -93.41       2.00      3.00     3108.00   \n",
       "4       329900.00     45.14     -93.02       3.00      4.00     1814.00   \n",
       "6       280000.00     45.28     -93.33       2.00      3.00     1993.00   \n",
       "7       237000.00     45.11     -93.26       2.00      3.00     2058.00   \n",
       "\n",
       "   yearBuilt  averageSchoolRating  zestimate  sentiment  ...  zip_55431  \\\n",
       "1       1996                 5.33  285985.00       0.49  ...          0   \n",
       "3       1985                 6.33  431995.00       0.26  ...          0   \n",
       "4       2001                 6.50  318162.00       0.27  ...          0   \n",
       "6       1976                 7.33  290365.00       0.94  ...          0   \n",
       "7       1959                 3.67  246844.00       0.99  ...          0   \n",
       "\n",
       "   zip_55432  zip_55433  zip_55434  zip_55437  zip_55443  zip_55446  \\\n",
       "1          0          0          0          0          0          0   \n",
       "3          0          0          0          0          0          0   \n",
       "4          0          0          0          0          0          0   \n",
       "6          0          0          0          0          0          0   \n",
       "7          1          0          0          0          0          0   \n",
       "\n",
       "   zip_55447  zip_55448  zip_55449  \n",
       "1          0          0          0  \n",
       "3          0          0          0  \n",
       "4          0          0          0  \n",
       "6          0          0          0  \n",
       "7          0          0          0  \n",
       "\n",
       "[5 rows x 99 columns]"
      ]
     },
     "execution_count": 31,
     "metadata": {},
     "output_type": "execute_result"
    }
   ],
   "source": [
    "df = pd.get_dummies(data=df, columns=[\"zip\"]) #\"bathrooms\", \"bedrooms\",\n",
    "df.head()"
   ]
  },
  {
   "cell_type": "markdown",
   "metadata": {
    "id": "8RGJAD5ZriAE"
   },
   "source": [
    "## Train Test Split "
   ]
  },
  {
   "cell_type": "code",
   "execution_count": 32,
   "metadata": {
    "executionInfo": {
     "elapsed": 202,
     "status": "ok",
     "timestamp": 1606514581802,
     "user": {
      "displayName": "Prateek Vachher",
      "photoUrl": "https://lh3.googleusercontent.com/a-/AOh14Gg7GJwDywSgfG45fhpZaOnQVMlfpl45WmwJyvT1Ow=s64",
      "userId": "02995801987827348544"
     },
     "user_tz": 360
    },
    "id": "DNY96ULoriAE"
   },
   "outputs": [],
   "source": [
    "X = df.drop(columns=[\"totPurchaseAmt\", \"latitude\", \"longitude\"])\n",
    "y = df[\"totPurchaseAmt\"]\n",
    "\n",
    "X = X.drop(columns=[\"zestimate\"])\n",
    "\n",
    "X_train, X_test, y_train, y_test = train_test_split(X, y, test_size=0.3)"
   ]
  },
  {
   "cell_type": "code",
   "execution_count": 33,
   "metadata": {
    "executionInfo": {
     "elapsed": 221,
     "status": "ok",
     "timestamp": 1606514623699,
     "user": {
      "displayName": "Prateek Vachher",
      "photoUrl": "https://lh3.googleusercontent.com/a-/AOh14Gg7GJwDywSgfG45fhpZaOnQVMlfpl45WmwJyvT1Ow=s64",
      "userId": "02995801987827348544"
     },
     "user_tz": 360
    },
    "id": "If_DVcTnriAF"
   },
   "outputs": [],
   "source": [
    "scaler = StandardScaler()\n",
    "scaler.fit(X_train)  # Don't cheat - fit only on training data\n",
    "X_train = scaler.transform(X_train)\n",
    "X_test = scaler.transform(X_test)  # apply same transformation to test data"
   ]
  },
  {
   "cell_type": "markdown",
   "metadata": {
    "id": "CcgwKs59riAF"
   },
   "source": [
    "## Models"
   ]
  },
  {
   "cell_type": "code",
   "execution_count": 34,
   "metadata": {
    "id": "dEE10C7-riAF"
   },
   "outputs": [],
   "source": [
    "def create_model(optimizer = 'adam'):\n",
    "  cnn_model = Sequential()\n",
    "\n",
    "  n_cols = X_train.shape[1]\n",
    "  cnn_model.add(Dense(16, activation='relu', input_shape=(n_cols,)))\n",
    "  cnn_model.add(Dense(32, activation='relu'))\n",
    "  cnn_model.add(Dense(64, activation='relu'))\n",
    "  cnn_model.add(Dense(128, activation='relu'))\n",
    "  cnn_model.add(Dense(256, activation='relu'))\n",
    "  cnn_model.add(Dense(256, activation='relu'))\n",
    "  cnn_model.add(Dense(128, activation='relu'))\n",
    "  cnn_model.add(Dense(64, activation='relu'))\n",
    "  cnn_model.add(Dense(32, activation='relu'))\n",
    "  cnn_model.add(Dense(16, activation='relu'))\n",
    "  cnn_model.add(Dense(1))\n",
    "\n",
    "  cnn_model.compile(optimizer=optimizer, loss='mean_absolute_error', metrics=[\"mae\"])\n",
    "\n",
    "  return cnn_model"
   ]
  },
  {
   "cell_type": "code",
   "execution_count": 35,
   "metadata": {
    "colab": {
     "base_uri": "https://localhost:8080/"
    },
    "executionInfo": {
     "elapsed": 406574,
     "status": "ok",
     "timestamp": 1606507393154,
     "user": {
      "displayName": "Prateek Vachher",
      "photoUrl": "https://lh3.googleusercontent.com/a-/AOh14Gg7GJwDywSgfG45fhpZaOnQVMlfpl45WmwJyvT1Ow=s64",
      "userId": "02995801987827348544"
     },
     "user_tz": 360
    },
    "id": "mZ1NL4ATriAF",
    "outputId": "900becd6-c4d8-4eef-8e6f-07961740c089"
   },
   "outputs": [
    {
     "name": "stdout",
     "output_type": "stream",
     "text": [
      "=== Neural Network ===\n",
      "=== Linear Regression ===\n",
      "=== Support Vector Machine ===\n",
      "=== Decision Tree ===\n",
      "=== Ridge Regression ===\n",
      "=== Least Angle Regression ===\n",
      "=== Bayesian Ridge Regression ===\n",
      "=== SGD Regressor ===\n",
      "=== Nearest Neighbors Regression ===\n",
      "=== Gaussian Process ===\n",
      "=== Random Forest ===\n",
      "=== Gradient Boosting Regressor ===\n"
     ]
    }
   ],
   "source": [
    "models = {\n",
    "    \"Neural Network\" : create_model(\"Adam\"),\n",
    "    \"Linear Regression\" : linear_model.LinearRegression(n_jobs=-1), \n",
    "    \"Support Vector Machine\" : svm.SVR(),\n",
    "    \"Decision Tree\" : DecisionTreeRegressor(),\n",
    "    \"Ridge Regression\" : linear_model.Ridge(alpha=.5),\n",
    "    \"Least Angle Regression\" : linear_model.LassoLars(alpha=.1),\n",
    "    \"Bayesian Ridge Regression\" : linear_model.BayesianRidge(),\n",
    "    \"SGD Regressor\" : linear_model.SGDRegressor(),\n",
    "    \"Nearest Neighbors Regression\" : neighbors.KNeighborsRegressor(n_jobs=-1),\n",
    "    \"Gaussian Process\" : gaussian_process.GaussianProcessRegressor(),\n",
    "    \"Random Forest\" : ensemble.RandomForestRegressor(n_jobs=-1),\n",
    "    'Gradient Boosting Regressor' : ensemble.GradientBoostingRegressor()\n",
    "}\n",
    "\n",
    "results = []\n",
    "\n",
    "for model_name in models:\n",
    "    model = models[model_name]\n",
    "\n",
    "    if model_name == \"Neural Network\":\n",
    "        model.fit(X_train, y_train, validation_split=0.1, epochs=100, verbose=0)\n",
    "    else:\n",
    "        model.fit(X_train, y_train)\n",
    "    \n",
    "    y_pred = model.predict(X_test)\n",
    "    \n",
    "    print (\"=== \" + model_name + \" ===\")\n",
    "    #     print('Mean Absolute Error:', metrics.mean_absolute_error(y_test, y_pred))  \n",
    "    #     print('Mean Squared Error:', metrics.mean_squared_error(y_test, y_pred))  \n",
    "    #     print('Root Mean Squared Error:', np.sqrt(metrics.mean_squared_error(y_test, y_pred)))\n",
    "    #     print ('\\n')\n",
    "    results.append([model_name, round(metrics.mean_absolute_error(y_test, y_pred), 3),\n",
    "                    round(metrics.mean_squared_error(y_test, y_pred), 3), \n",
    "                    round(np.sqrt(metrics.mean_squared_error(y_test, y_pred)), 3)])"
   ]
  },
  {
   "cell_type": "code",
   "execution_count": 36,
   "metadata": {},
   "outputs": [
    {
     "data": {
      "text/html": [
       "<div>\n",
       "<style scoped>\n",
       "    .dataframe tbody tr th:only-of-type {\n",
       "        vertical-align: middle;\n",
       "    }\n",
       "\n",
       "    .dataframe tbody tr th {\n",
       "        vertical-align: top;\n",
       "    }\n",
       "\n",
       "    .dataframe thead th {\n",
       "        text-align: right;\n",
       "    }\n",
       "</style>\n",
       "<table border=\"1\" class=\"dataframe\">\n",
       "  <thead>\n",
       "    <tr style=\"text-align: right;\">\n",
       "      <th></th>\n",
       "      <th>Model Name</th>\n",
       "      <th>MAE</th>\n",
       "      <th>MSE</th>\n",
       "      <th>RMSE</th>\n",
       "    </tr>\n",
       "  </thead>\n",
       "  <tbody>\n",
       "    <tr>\n",
       "      <th>10</th>\n",
       "      <td>Random Forest</td>\n",
       "      <td>56552.36</td>\n",
       "      <td>12581329503.20</td>\n",
       "      <td>112166.53</td>\n",
       "    </tr>\n",
       "    <tr>\n",
       "      <th>0</th>\n",
       "      <td>Neural Network</td>\n",
       "      <td>56578.58</td>\n",
       "      <td>12710015283.71</td>\n",
       "      <td>112738.70</td>\n",
       "    </tr>\n",
       "    <tr>\n",
       "      <th>11</th>\n",
       "      <td>Gradient Boosting Regressor</td>\n",
       "      <td>57604.13</td>\n",
       "      <td>13004669418.31</td>\n",
       "      <td>114038.02</td>\n",
       "    </tr>\n",
       "    <tr>\n",
       "      <th>6</th>\n",
       "      <td>Bayesian Ridge Regression</td>\n",
       "      <td>61307.37</td>\n",
       "      <td>13039919954.01</td>\n",
       "      <td>114192.47</td>\n",
       "    </tr>\n",
       "    <tr>\n",
       "      <th>5</th>\n",
       "      <td>Least Angle Regression</td>\n",
       "      <td>61382.96</td>\n",
       "      <td>13032213862.49</td>\n",
       "      <td>114158.72</td>\n",
       "    </tr>\n",
       "    <tr>\n",
       "      <th>4</th>\n",
       "      <td>Ridge Regression</td>\n",
       "      <td>61394.07</td>\n",
       "      <td>13031939852.91</td>\n",
       "      <td>114157.52</td>\n",
       "    </tr>\n",
       "    <tr>\n",
       "      <th>1</th>\n",
       "      <td>Linear Regression</td>\n",
       "      <td>61395.81</td>\n",
       "      <td>13032365047.88</td>\n",
       "      <td>114159.38</td>\n",
       "    </tr>\n",
       "    <tr>\n",
       "      <th>7</th>\n",
       "      <td>SGD Regressor</td>\n",
       "      <td>61589.09</td>\n",
       "      <td>13164414150.48</td>\n",
       "      <td>114736.28</td>\n",
       "    </tr>\n",
       "    <tr>\n",
       "      <th>8</th>\n",
       "      <td>Nearest Neighbors Regression</td>\n",
       "      <td>61938.84</td>\n",
       "      <td>13552520140.53</td>\n",
       "      <td>116415.29</td>\n",
       "    </tr>\n",
       "    <tr>\n",
       "      <th>3</th>\n",
       "      <td>Decision Tree</td>\n",
       "      <td>79866.88</td>\n",
       "      <td>25779312636.49</td>\n",
       "      <td>160559.37</td>\n",
       "    </tr>\n",
       "    <tr>\n",
       "      <th>2</th>\n",
       "      <td>Support Vector Machine</td>\n",
       "      <td>106467.31</td>\n",
       "      <td>34611275581.55</td>\n",
       "      <td>186041.06</td>\n",
       "    </tr>\n",
       "    <tr>\n",
       "      <th>9</th>\n",
       "      <td>Gaussian Process</td>\n",
       "      <td>1487492.45</td>\n",
       "      <td>72255645361775.11</td>\n",
       "      <td>8500332.07</td>\n",
       "    </tr>\n",
       "  </tbody>\n",
       "</table>\n",
       "</div>"
      ],
      "text/plain": [
       "                      Model Name        MAE               MSE       RMSE\n",
       "10                 Random Forest   56552.36    12581329503.20  112166.53\n",
       "0                 Neural Network   56578.58    12710015283.71  112738.70\n",
       "11   Gradient Boosting Regressor   57604.13    13004669418.31  114038.02\n",
       "6      Bayesian Ridge Regression   61307.37    13039919954.01  114192.47\n",
       "5         Least Angle Regression   61382.96    13032213862.49  114158.72\n",
       "4               Ridge Regression   61394.07    13031939852.91  114157.52\n",
       "1              Linear Regression   61395.81    13032365047.88  114159.38\n",
       "7                  SGD Regressor   61589.09    13164414150.48  114736.28\n",
       "8   Nearest Neighbors Regression   61938.84    13552520140.53  116415.29\n",
       "3                  Decision Tree   79866.88    25779312636.49  160559.37\n",
       "2         Support Vector Machine  106467.31    34611275581.55  186041.06\n",
       "9               Gaussian Process 1487492.45 72255645361775.11 8500332.07"
      ]
     },
     "execution_count": 36,
     "metadata": {},
     "output_type": "execute_result"
    }
   ],
   "source": [
    "pd.set_option('display.float_format', '{:.2f}'.format)\n",
    "\n",
    "dfResults = pd.DataFrame(results, columns =['Model Name', 'MAE', 'MSE', 'RMSE']) \n",
    "dfResults.sort_values(by=[\"MAE\"])"
   ]
  },
  {
   "cell_type": "code",
   "execution_count": 27,
   "metadata": {},
   "outputs": [
    {
     "data": {
      "text/html": [
       "<div>\n",
       "<style scoped>\n",
       "    .dataframe tbody tr th:only-of-type {\n",
       "        vertical-align: middle;\n",
       "    }\n",
       "\n",
       "    .dataframe tbody tr th {\n",
       "        vertical-align: top;\n",
       "    }\n",
       "\n",
       "    .dataframe thead th {\n",
       "        text-align: right;\n",
       "    }\n",
       "</style>\n",
       "<table border=\"1\" class=\"dataframe\">\n",
       "  <thead>\n",
       "    <tr style=\"text-align: right;\">\n",
       "      <th></th>\n",
       "      <th>Model Name</th>\n",
       "      <th>MAE</th>\n",
       "      <th>MSE</th>\n",
       "      <th>RMSE</th>\n",
       "    </tr>\n",
       "  </thead>\n",
       "  <tbody>\n",
       "    <tr>\n",
       "      <th>10</th>\n",
       "      <td>Random Forest</td>\n",
       "      <td>56279.46</td>\n",
       "      <td>11620028230.26</td>\n",
       "      <td>107796.24</td>\n",
       "    </tr>\n",
       "    <tr>\n",
       "      <th>0</th>\n",
       "      <td>Neural Network</td>\n",
       "      <td>56552.90</td>\n",
       "      <td>16112258683.05</td>\n",
       "      <td>126934.07</td>\n",
       "    </tr>\n",
       "    <tr>\n",
       "      <th>11</th>\n",
       "      <td>Gradient Boosting Regressor</td>\n",
       "      <td>57977.30</td>\n",
       "      <td>12218469359.82</td>\n",
       "      <td>110537.18</td>\n",
       "    </tr>\n",
       "    <tr>\n",
       "      <th>6</th>\n",
       "      <td>Bayesian Ridge Regression</td>\n",
       "      <td>60965.38</td>\n",
       "      <td>13173525562.82</td>\n",
       "      <td>114775.98</td>\n",
       "    </tr>\n",
       "    <tr>\n",
       "      <th>5</th>\n",
       "      <td>Least Angle Regression</td>\n",
       "      <td>61064.90</td>\n",
       "      <td>13170807893.70</td>\n",
       "      <td>114764.14</td>\n",
       "    </tr>\n",
       "    <tr>\n",
       "      <th>4</th>\n",
       "      <td>Ridge Regression</td>\n",
       "      <td>61075.13</td>\n",
       "      <td>13171606966.81</td>\n",
       "      <td>114767.62</td>\n",
       "    </tr>\n",
       "    <tr>\n",
       "      <th>1</th>\n",
       "      <td>Linear Regression</td>\n",
       "      <td>61968.55</td>\n",
       "      <td>13136156402.49</td>\n",
       "      <td>114613.07</td>\n",
       "    </tr>\n",
       "    <tr>\n",
       "      <th>8</th>\n",
       "      <td>Nearest Neighbors Regression</td>\n",
       "      <td>65673.85</td>\n",
       "      <td>15510598684.52</td>\n",
       "      <td>124541.55</td>\n",
       "    </tr>\n",
       "    <tr>\n",
       "      <th>3</th>\n",
       "      <td>Decision Tree</td>\n",
       "      <td>77267.06</td>\n",
       "      <td>19748369683.68</td>\n",
       "      <td>140528.89</td>\n",
       "    </tr>\n",
       "    <tr>\n",
       "      <th>2</th>\n",
       "      <td>Support Vector Machine</td>\n",
       "      <td>106395.28</td>\n",
       "      <td>33703071704.63</td>\n",
       "      <td>183583.96</td>\n",
       "    </tr>\n",
       "    <tr>\n",
       "      <th>9</th>\n",
       "      <td>Gaussian Process</td>\n",
       "      <td>985664.70</td>\n",
       "      <td>126695672499034.23</td>\n",
       "      <td>11255917.22</td>\n",
       "    </tr>\n",
       "    <tr>\n",
       "      <th>7</th>\n",
       "      <td>SGD Regressor</td>\n",
       "      <td>3631391454.08</td>\n",
       "      <td>4314735789914320797696.00</td>\n",
       "      <td>65686648490.50</td>\n",
       "    </tr>\n",
       "  </tbody>\n",
       "</table>\n",
       "</div>"
      ],
      "text/plain": [
       "                      Model Name           MAE                       MSE  \\\n",
       "10                 Random Forest      56279.46            11620028230.26   \n",
       "0                 Neural Network      56552.90            16112258683.05   \n",
       "11   Gradient Boosting Regressor      57977.30            12218469359.82   \n",
       "6      Bayesian Ridge Regression      60965.38            13173525562.82   \n",
       "5         Least Angle Regression      61064.90            13170807893.70   \n",
       "4               Ridge Regression      61075.13            13171606966.81   \n",
       "1              Linear Regression      61968.55            13136156402.49   \n",
       "8   Nearest Neighbors Regression      65673.85            15510598684.52   \n",
       "3                  Decision Tree      77267.06            19748369683.68   \n",
       "2         Support Vector Machine     106395.28            33703071704.63   \n",
       "9               Gaussian Process     985664.70        126695672499034.23   \n",
       "7                  SGD Regressor 3631391454.08 4314735789914320797696.00   \n",
       "\n",
       "             RMSE  \n",
       "10      107796.24  \n",
       "0       126934.07  \n",
       "11      110537.18  \n",
       "6       114775.98  \n",
       "5       114764.14  \n",
       "4       114767.62  \n",
       "1       114613.07  \n",
       "8       124541.55  \n",
       "3       140528.89  \n",
       "2       183583.96  \n",
       "9     11255917.22  \n",
       "7  65686648490.50  "
      ]
     },
     "execution_count": 27,
     "metadata": {},
     "output_type": "execute_result"
    }
   ],
   "source": [
    "pd.set_option('display.float_format', '{:.2f}'.format)\n",
    "\n",
    "dfResults = pd.DataFrame(results, columns =['Model Name', 'MAE', 'MSE', 'RMSE']) \n",
    "dfResults.sort_values(by=[\"MAE\"])"
   ]
  },
  {
   "cell_type": "markdown",
   "metadata": {
    "id": "dMEIKle0MAhv"
   },
   "source": [
    "## Feature Importance"
   ]
  },
  {
   "cell_type": "code",
   "execution_count": 37,
   "metadata": {
    "colab": {
     "base_uri": "https://localhost:8080/"
    },
    "executionInfo": {
     "elapsed": 15095,
     "status": "ok",
     "timestamp": 1606514956220,
     "user": {
      "displayName": "Prateek Vachher",
      "photoUrl": "https://lh3.googleusercontent.com/a-/AOh14Gg7GJwDywSgfG45fhpZaOnQVMlfpl45WmwJyvT1Ow=s64",
      "userId": "02995801987827348544"
     },
     "user_tz": 360
    },
    "id": "pJxvX5XXriAF",
    "outputId": "9970112c-5401-4208-8426-569863bb0b8e"
   },
   "outputs": [
    {
     "data": {
      "text/plain": [
       "RandomForestRegressor(n_jobs=-1)"
      ]
     },
     "execution_count": 37,
     "metadata": {},
     "output_type": "execute_result"
    }
   ],
   "source": [
    "model = ensemble.RandomForestRegressor(n_jobs=-1)\n",
    "model.fit(X_train, y_train)"
   ]
  },
  {
   "cell_type": "code",
   "execution_count": 49,
   "metadata": {},
   "outputs": [
    {
     "data": {
      "image/png": "[encoded data removed]",
      "text/plain": [
       "<Figure size 432x288 with 1 Axes>"
      ]
     },
     "metadata": {
      "needs_background": "light"
     },
     "output_type": "display_data"
    }
   ],
   "source": [
    "features = X.columns\n",
    "importances = model.feature_importances_\n",
    "indices = np.argsort(importances)[-10:]\n",
    "\n",
    "plt.title('Feature Importances')\n",
    "plt.barh(range(len(indices)), importances[indices], color='b', align='center')\n",
    "plt.yticks(range(len(indices)), [features[i] for i in indices])\n",
    "plt.xlabel('Relative Importance')\n",
    "plt.show()"
   ]
  },
  {
   "cell_type": "markdown",
   "metadata": {},
   "source": [
    "## Grid Search for Best HyperParameter"
   ]
  },
  {
   "cell_type": "code",
   "execution_count": 41,
   "metadata": {},
   "outputs": [
    {
     "name": "stdout",
     "output_type": "stream",
     "text": [
      "Fitting 3 folds for each of 100 candidates, totalling 300 fits\n"
     ]
    },
    {
     "name": "stderr",
     "output_type": "stream",
     "text": [
      "[Parallel(n_jobs=-1)]: Using backend LokyBackend with 16 concurrent workers.\n",
      "[Parallel(n_jobs=-1)]: Done   9 tasks      | elapsed:   29.5s\n",
      "[Parallel(n_jobs=-1)]: Done 130 tasks      | elapsed: 10.9min\n",
      "[Parallel(n_jobs=-1)]: Done 300 out of 300 | elapsed: 28.3min finished\n"
     ]
    },
    {
     "data": {
      "text/plain": [
       "RandomizedSearchCV(cv=3, estimator=RandomForestRegressor(), n_iter=100,\n",
       "                   n_jobs=-1,\n",
       "                   param_distributions={'bootstrap': [True, False],\n",
       "                                        'max_depth': [10, 20, 30, 40, 50, 60,\n",
       "                                                      70, 80, 90, 100, 110,\n",
       "                                                      None],\n",
       "                                        'max_features': ['auto', 'sqrt'],\n",
       "                                        'min_samples_leaf': [1, 2, 4],\n",
       "                                        'min_samples_split': [2, 5, 10],\n",
       "                                        'n_estimators': [200, 400, 600, 800,\n",
       "                                                         1000, 1200, 1400, 1600,\n",
       "                                                         1800, 2000]},\n",
       "                   random_state=42, verbose=2)"
      ]
     },
     "execution_count": 41,
     "metadata": {},
     "output_type": "execute_result"
    }
   ],
   "source": [
    "from sklearn.model_selection import RandomizedSearchCV\n",
    "\n",
    "n_estimators = [int(x) for x in np.linspace(start = 200, stop = 2000, num = 10)]\n",
    "\n",
    "max_features = ['auto', 'sqrt']\n",
    "\n",
    "max_depth = [int(x) for x in np.linspace(10, 110, num = 11)]\n",
    "max_depth.append(None)\n",
    "\n",
    "min_samples_split = [2, 5, 10]\n",
    "\n",
    "min_samples_leaf = [1, 2, 4]\n",
    "\n",
    "bootstrap = [True, False]\n",
    "\n",
    "random_grid = {'n_estimators': n_estimators,\n",
    "               'max_features': max_features,\n",
    "               'max_depth': max_depth,\n",
    "               'min_samples_split': min_samples_split,\n",
    "               'min_samples_leaf': min_samples_leaf,\n",
    "               'bootstrap': bootstrap}\n",
    "\n",
    "rf = ensemble.RandomForestRegressor()\n",
    "\n",
    "rf_random = RandomizedSearchCV(estimator = rf, param_distributions = random_grid, n_iter = 100, cv = 3, verbose=2, random_state=42, n_jobs = -1)\n",
    "\n",
    "rf_random.fit(X_train, y_train)"
   ]
  },
  {
   "cell_type": "code",
   "execution_count": 42,
   "metadata": {},
   "outputs": [
    {
     "data": {
      "text/plain": [
       "RandomForestRegressor(max_depth=100, max_features='sqrt', min_samples_split=5,\n",
       "                      n_estimators=400)"
      ]
     },
     "execution_count": 42,
     "metadata": {},
     "output_type": "execute_result"
    }
   ],
   "source": [
    "rf_random.best_estimator_"
   ]
  },
  {
   "cell_type": "code",
   "execution_count": 43,
   "metadata": {},
   "outputs": [
    {
     "name": "stdout",
     "output_type": "stream",
     "text": [
      "Mean Absolute Error: 53839.61040534441\n",
      "Mean Squared Error: 11723129631.063478\n",
      "Root Mean Squared Error: 108273.40223278974\n",
      "\n",
      "\n"
     ]
    }
   ],
   "source": [
    "y_pred = rf_random.predict(X_test)\n",
    "print('Mean Absolute Error:', metrics.mean_absolute_error(y_test, y_pred))  \n",
    "print('Mean Squared Error:', metrics.mean_squared_error(y_test, y_pred))  \n",
    "print('Root Mean Squared Error:', np.sqrt(metrics.mean_squared_error(y_test, y_pred)))\n",
    "print ('\\n')"
   ]
  }
 ],
 "metadata": {
  "accelerator": "GPU",
  "colab": {
   "collapsed_sections": [],
   "name": "Model.ipynb",
   "provenance": []
  },
  "kernelspec": {
   "display_name": "Python 3",
   "language": "python",
   "name": "python3"
  },
  "language_info": {
   "codemirror_mode": {
    "name": "ipython",
    "version": 3
   },
   "file_extension": ".py",
   "mimetype": "text/x-python",
   "name": "python",
   "nbconvert_exporter": "python",
   "pygments_lexer": "ipython3",
   "version": "3.6.12"
  }
 },
 "nbformat": 4,
 "nbformat_minor": 1
}
